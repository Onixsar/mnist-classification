{
 "cells": [
  {
   "cell_type": "code",
   "execution_count": 1,
   "metadata": {},
   "outputs": [
    {
     "name": "stderr",
     "output_type": "stream",
     "text": [
      "Using TensorFlow backend.\n"
     ]
    }
   ],
   "source": [
    "import pandas as pd\n",
    "import numpy as np\n",
    "import cv2\n",
    "import matplotlib.pyplot as plt\n",
    "import seaborn as sns\n",
    "from sklearn import metrics\n",
    "from sklearn.model_selection import train_test_split\n",
    "from keras import layers as kl\n",
    "from keras.models import Model\n",
    "import keras"
   ]
  },
  {
   "cell_type": "code",
   "execution_count": 2,
   "metadata": {},
   "outputs": [],
   "source": [
    "def extract_x_y(path=None, set_type=None):\n",
    "    df = pd.read_csv(path)\n",
    "\n",
    "    if set_type=='train':\n",
    "        x = df.iloc[:, 1:]\n",
    "        x = np.array(x).reshape((x.shape[0],28,28,1))\n",
    "        y = df['label']\n",
    "        print(x.shape)\n",
    "        y = keras.utils.np_utils.to_categorical(y.values, num_classes=10)\n",
    "        return x, y\n",
    "    else:\n",
    "        x = df\n",
    "        x = np.array(x).reshape((x.shape[0],28,28,1))\n",
    "        print(x.shape)\n",
    "        return x"
   ]
  },
  {
   "cell_type": "code",
   "execution_count": 3,
   "metadata": {},
   "outputs": [
    {
     "name": "stdout",
     "output_type": "stream",
     "text": [
      "(42000, 28, 28, 1)\n",
      "(28000, 28, 28, 1)\n"
     ]
    }
   ],
   "source": [
    "X_train, y_train = extract_x_y('train.csv', set_type='train')\n",
    "X_test = extract_x_y('test.csv', set_type='test')"
   ]
  },
  {
   "cell_type": "code",
   "execution_count": 4,
   "metadata": {},
   "outputs": [],
   "source": [
    "X_train, X_val, y_train, y_val = train_test_split(X_train, y_train, train_size=0.8, shuffle=True)"
   ]
  },
  {
   "cell_type": "code",
   "execution_count": 5,
   "metadata": {},
   "outputs": [
    {
     "data": {
      "text/plain": [
       "[(33600, 28, 28, 1), (8400, 28, 28, 1), (33600, 10), (8400, 10)]"
      ]
     },
     "execution_count": 5,
     "metadata": {},
     "output_type": "execute_result"
    }
   ],
   "source": [
    "[x.shape for x in [X_train, X_val, y_train, y_val]]"
   ]
  },
  {
   "cell_type": "code",
   "execution_count": 18,
   "metadata": {},
   "outputs": [
    {
     "name": "stdout",
     "output_type": "stream",
     "text": [
      "Model: \"model_2\"\n",
      "_________________________________________________________________\n",
      "Layer (type)                 Output Shape              Param #   \n",
      "=================================================================\n",
      "input_2 (InputLayer)         (None, 28, 28, 1)         0         \n",
      "_________________________________________________________________\n",
      "conv2d_5 (Conv2D)            (None, 24, 24, 128)       3328      \n",
      "_________________________________________________________________\n",
      "conv2d_6 (Conv2D)            (None, 22, 22, 64)        73792     \n",
      "_________________________________________________________________\n",
      "conv2d_7 (Conv2D)            (None, 20, 20, 32)        18464     \n",
      "_________________________________________________________________\n",
      "conv2d_8 (Conv2D)            (None, 18, 18, 16)        4624      \n",
      "_________________________________________________________________\n",
      "flatten_2 (Flatten)          (None, 5184)              0         \n",
      "_________________________________________________________________\n",
      "dense_2 (Dense)              (None, 10)                51850     \n",
      "=================================================================\n",
      "Total params: 152,058\n",
      "Trainable params: 152,058\n",
      "Non-trainable params: 0\n",
      "_________________________________________________________________\n"
     ]
    }
   ],
   "source": [
    "ip = kl.Input(shape=(28,28,1))\n",
    "x = kl.Conv2D(128, kernel_size=5, activation='relu')(ip)\n",
    "x = kl.Conv2D(64, kernel_size=3, activation='relu')(x)\n",
    "x = kl.Conv2D(32, kernel_size=3, activation='relu')(x)\n",
    "x = kl.Conv2D(16, kernel_size=3, activation='relu')(x)\n",
    "x = kl.Flatten()(x)\n",
    "x = kl.Dense(10, activation='softmax')(x)\n",
    "\n",
    "model = Model(inputs=ip, outputs=x)\n",
    "model.compile(loss=keras.losses.categorical_crossentropy,\n",
    "              optimizer=keras.optimizers.Adam(),\n",
    "              metrics=[\"accuracy\"])\n",
    "model.summary()"
   ]
  },
  {
   "cell_type": "code",
   "execution_count": 19,
   "metadata": {},
   "outputs": [],
   "source": [
    "early_stopping = keras.callbacks.EarlyStopping(monitor='val_accuracy', \n",
    "                                               min_delta=0, patience=10, verbose=0, mode='auto',\n",
    "                                               baseline=None, restore_best_weights=True)"
   ]
  },
  {
   "cell_type": "code",
   "execution_count": 20,
   "metadata": {
    "scrolled": true
   },
   "outputs": [
    {
     "name": "stdout",
     "output_type": "stream",
     "text": [
      "Train on 26880 samples, validate on 6720 samples\n",
      "Epoch 1/30\n",
      "26880/26880 [==============================] - 7s 264us/step - loss: 0.2165 - accuracy: 0.9339 - val_loss: 0.1326 - val_accuracy: 0.9610\n",
      "Epoch 2/30\n",
      "26880/26880 [==============================] - 7s 258us/step - loss: 0.0699 - accuracy: 0.9798 - val_loss: 0.0715 - val_accuracy: 0.9772\n",
      "Epoch 3/30\n",
      "26880/26880 [==============================] - 7s 260us/step - loss: 0.0489 - accuracy: 0.9846 - val_loss: 0.0632 - val_accuracy: 0.9812\n",
      "Epoch 4/30\n",
      "26880/26880 [==============================] - 7s 258us/step - loss: 0.0338 - accuracy: 0.9893 - val_loss: 0.0877 - val_accuracy: 0.9812\n",
      "Epoch 5/30\n",
      "26880/26880 [==============================] - 7s 260us/step - loss: 0.0285 - accuracy: 0.9908 - val_loss: 0.0532 - val_accuracy: 0.9857\n",
      "Epoch 6/30\n",
      "26880/26880 [==============================] - 7s 262us/step - loss: 0.0211 - accuracy: 0.9929 - val_loss: 0.0623 - val_accuracy: 0.9823\n",
      "Epoch 7/30\n",
      "26880/26880 [==============================] - 7s 260us/step - loss: 0.0179 - accuracy: 0.9942 - val_loss: 0.0766 - val_accuracy: 0.9833\n",
      "Epoch 8/30\n",
      "26880/26880 [==============================] - 7s 260us/step - loss: 0.0147 - accuracy: 0.9951 - val_loss: 0.0692 - val_accuracy: 0.9830\n",
      "Epoch 9/30\n",
      "26880/26880 [==============================] - 7s 265us/step - loss: 0.0124 - accuracy: 0.9959 - val_loss: 0.0793 - val_accuracy: 0.9820\n",
      "Epoch 10/30\n",
      "26880/26880 [==============================] - 7s 266us/step - loss: 0.0135 - accuracy: 0.9952 - val_loss: 0.0784 - val_accuracy: 0.9811\n",
      "Epoch 11/30\n",
      "26880/26880 [==============================] - 7s 262us/step - loss: 0.0110 - accuracy: 0.9964 - val_loss: 0.0717 - val_accuracy: 0.9836\n",
      "Epoch 12/30\n",
      "26880/26880 [==============================] - 7s 260us/step - loss: 0.0113 - accuracy: 0.9962 - val_loss: 0.0708 - val_accuracy: 0.9853\n",
      "Epoch 13/30\n",
      "26880/26880 [==============================] - 7s 263us/step - loss: 0.0043 - accuracy: 0.9987 - val_loss: 0.0849 - val_accuracy: 0.9847\n",
      "Epoch 14/30\n",
      "26880/26880 [==============================] - 7s 262us/step - loss: 0.0108 - accuracy: 0.9965 - val_loss: 0.0696 - val_accuracy: 0.9832\n",
      "Epoch 15/30\n",
      "26880/26880 [==============================] - 7s 269us/step - loss: 0.0076 - accuracy: 0.9972 - val_loss: 0.0875 - val_accuracy: 0.9823\n"
     ]
    },
    {
     "data": {
      "text/plain": [
       "<keras.callbacks.callbacks.History at 0x1364ea9b748>"
      ]
     },
     "execution_count": 20,
     "metadata": {},
     "output_type": "execute_result"
    }
   ],
   "source": [
    "model.fit(X_train/255, y_train, epochs=30, batch_size=64, validation_split=0.2, \n",
    "          callbacks=[early_stopping])\n",
    "#model.fit(X_train/255, y_train, epochs=30, batch_size=64, validation_split=0.2, )"
   ]
  },
  {
   "cell_type": "code",
   "execution_count": 21,
   "metadata": {},
   "outputs": [],
   "source": [
    "y_val_pred = model.predict(X_val/255).argmax(axis=1)"
   ]
  },
  {
   "cell_type": "code",
   "execution_count": 22,
   "metadata": {},
   "outputs": [
    {
     "data": {
      "text/plain": [
       "array([[838,   0,   1,   0,   0,   1,   0,   0,   1,   0],\n",
       "       [  0, 935,   2,   1,   3,   0,   1,   1,   1,   0],\n",
       "       [  2,   1, 839,   9,   0,   0,   0,   7,   2,   1],\n",
       "       [  1,   0,   8, 857,   0,   1,   0,   1,   0,   1],\n",
       "       [  1,   3,   0,   0, 805,   0,   3,   1,   2,   8],\n",
       "       [  0,   1,   2,   2,   3, 732,   4,   0,   1,   2],\n",
       "       [  3,   0,   0,   0,   1,   2, 824,   0,   0,   0],\n",
       "       [  0,   6,   4,   1,   2,   0,   0, 796,   1,   2],\n",
       "       [  2,   0,   5,   5,   1,   0,   1,   2, 811,   4],\n",
       "       [  2,   1,   2,   3,   8,   3,   0,   6,   1, 816]], dtype=int64)"
      ]
     },
     "execution_count": 22,
     "metadata": {},
     "output_type": "execute_result"
    }
   ],
   "source": [
    "metrics.confusion_matrix(y_val.argmax(axis=1), y_val_pred)"
   ]
  },
  {
   "cell_type": "code",
   "execution_count": 23,
   "metadata": {},
   "outputs": [
    {
     "data": {
      "text/plain": [
       "0.9825"
      ]
     },
     "execution_count": 23,
     "metadata": {},
     "output_type": "execute_result"
    }
   ],
   "source": [
    "metrics.accuracy_score(y_val.argmax(axis=1), y_val_pred)"
   ]
  },
  {
   "cell_type": "code",
   "execution_count": 24,
   "metadata": {},
   "outputs": [],
   "source": [
    "false_predictions = X_val[y_val_pred != y_val.argmax(axis=1)]\n",
    "false_labels      = y_val_pred[y_val_pred != y_val.argmax(axis=1)]\n",
    "true_labels       = y_val[y_val_pred != y_val.argmax(axis=1)].argmax(axis=1)"
   ]
  },
  {
   "cell_type": "code",
   "execution_count": 25,
   "metadata": {},
   "outputs": [
    {
     "data": {
      "image/png": "[encoded data removed]",
      "text/plain": [
       "<Figure size 432x288 with 1 Axes>"
      ]
     },
     "metadata": {
      "needs_background": "light"
     },
     "output_type": "display_data"
    }
   ],
   "source": [
    "n = np.random.randint(false_predictions.shape[0])\n",
    "plt.imshow(false_predictions[n])\n",
    "plt.title(\"Actual:{} Prediction:{}\".format(true_labels[n], false_labels[n]))\n",
    "plt.show()"
   ]
  },
  {
   "cell_type": "code",
   "execution_count": 26,
   "metadata": {},
   "outputs": [],
   "source": [
    "y_test = model.predict(X_test/255).argmax(axis=1)"
   ]
  },
  {
   "cell_type": "code",
   "execution_count": 27,
   "metadata": {},
   "outputs": [],
   "source": [
    "sol = pd.DataFrame({'ImageId':np.arange(1,len(y_test)+1), 'Label':y_test}, columns=['ImageId', 'Label'])\n",
    "sol.to_csv('submission.csv', index=False)"
   ]
  }
 ],
 "metadata": {
  "kernelspec": {
   "display_name": "Python 3",
   "language": "python",
   "name": "python3"
  },
  "language_info": {
   "codemirror_mode": {
    "name": "ipython",
    "version": 3
   },
   "file_extension": ".py",
   "mimetype": "text/x-python",
   "name": "python",
   "nbconvert_exporter": "python",
   "pygments_lexer": "ipython3",
   "version": "3.7.7"
  }
 },
 "nbformat": 4,
 "nbformat_minor": 4
}
